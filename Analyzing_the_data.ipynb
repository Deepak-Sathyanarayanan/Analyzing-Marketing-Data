{
 "cells": [
  {
   "cell_type": "code",
   "execution_count": 542,
   "metadata": {},
   "outputs": [],
   "source": [
    "#user_id                             int64\n",
    "#email                              object\n",
    "#first_name                         object\n",
    "#last_name                          object\n",
    "#gender                             object\n",
    "#birthday                   datetime64[ns]\n",
    "#city                               object\n",
    "#state                              object\n",
    "#newsletter_sign_up_date    datetime64[ns]\n",
    "#order_id                          float64\n",
    "#purchase_date              datetime64[ns]\n",
    "#product                            object\n",
    "#listed_price                      float64\n",
    "#paid_price                        float64\n",
    "#age                               float64\n",
    "#purchase_month               0\n",
    "#purchase_year                0"
   ]
  },
  {
   "cell_type": "code",
   "execution_count": null,
   "metadata": {},
   "outputs": [],
   "source": [
    "import numpy as np\n",
    "import pandas as pd\n",
    "from sklearn.preprocessing import LabelEncoder\n",
    "import datetime\n",
    "import seaborn as sns\n",
    "from sklearn.cluster import KMeans\n",
    "import matplotlib.pyplot as plt\n",
    "%matplotlib inline"
   ]
  },
  {
   "cell_type": "code",
   "execution_count": null,
   "metadata": {},
   "outputs": [],
   "source": [
    "UserOrder = pd.ExcelFile('Patterngonia DB.xlsx')\n",
    "U = pd.read_excel(UserOrder, 'Users')\n",
    "O = pd.read_excel(UserOrder, 'Orders')"
   ]
  },
  {
   "cell_type": "code",
   "execution_count": null,
   "metadata": {},
   "outputs": [],
   "source": [
    "cust = pd.merge(O, U, on = 'user_id', how = 'left')"
   ]
  },
  {
   "cell_type": "code",
   "execution_count": null,
   "metadata": {},
   "outputs": [],
   "source": [
    "cust.head()"
   ]
  },
  {
   "cell_type": "code",
   "execution_count": null,
   "metadata": {},
   "outputs": [],
   "source": [
    "print(cust.dtypes)\n",
    "print(pd.DataFrame([cust.listed_price, cust.paid_price]).transpose().describe())\n",
    "cust.info"
   ]
  },
  {
   "cell_type": "code",
   "execution_count": null,
   "metadata": {},
   "outputs": [],
   "source": [
    "cust.shape\n"
   ]
  },
  {
   "cell_type": "code",
   "execution_count": null,
   "metadata": {},
   "outputs": [],
   "source": [
    "print(cust['gender'].value_counts())\n",
    "print(cust['city'].value_counts())\n",
    "print(cust['state'].value_counts())\n",
    "print(cust['product'].value_counts())"
   ]
  },
  {
   "cell_type": "code",
   "execution_count": null,
   "metadata": {},
   "outputs": [],
   "source": [
    "## TO find the age\n",
    "year = datetime.date.today().year\n",
    "cust['age'] = year - cust['birthday'].dt.year\n",
    "cust.head()"
   ]
  },
  {
   "cell_type": "code",
   "execution_count": null,
   "metadata": {},
   "outputs": [],
   "source": [
    "cust[\"purchase_month\"] = cust[\"purchase_date\"].dt.month\n",
    "cust[\"purchase_year\"] = cust[\"purchase_date\"].dt.year"
   ]
  },
  {
   "cell_type": "code",
   "execution_count": null,
   "metadata": {},
   "outputs": [],
   "source": [
    "# Time period of all purchases\n",
    "\n",
    "print(cust['purchase_date'].min())\n",
    "print(cust['purchase_date'].max())"
   ]
  },
  {
   "cell_type": "code",
   "execution_count": null,
   "metadata": {},
   "outputs": [],
   "source": [
    "plt.rcParams[\"figure.figsize\"]=(27,9)\n",
    "plt.subplot(121)\n",
    "sns.countplot(cust['gender'])"
   ]
  },
  {
   "cell_type": "code",
   "execution_count": null,
   "metadata": {},
   "outputs": [],
   "source": [
    "# Distplot for age\n",
    "Age = cust.dropna()\n",
    "sns.displot(Age.age, kde=False)\n",
    "plt.show() "
   ]
  },
  {
   "attachments": {},
   "cell_type": "markdown",
   "metadata": {},
   "source": [
    "# 1 Categorization by Products - List of users who contribute 58% of the total sales"
   ]
  },
  {
   "cell_type": "code",
   "execution_count": null,
   "metadata": {},
   "outputs": [],
   "source": [
    "#Product wise categorization  \n",
    "cust.groupby(['product'])['paid_price'].aggregate('sum').reset_index().sort_values('paid_price', ascending = False).head(10)\n",
    "# Around 58% of the client's income is from Tent product type per year"
   ]
  },
  {
   "cell_type": "code",
   "execution_count": null,
   "metadata": {},
   "outputs": [],
   "source": [
    "# To filter data by Product = 'Tent'\n",
    "TentCustomers = cust[cust['product'] == 'Tent']\n",
    "TentCustomers"
   ]
  },
  {
   "cell_type": "code",
   "execution_count": null,
   "metadata": {},
   "outputs": [],
   "source": [
    "#Which month tents are more purchased\n",
    "TentCustomers.groupby([\"purchase_month\"])[\"paid_price\"].aggregate('sum').reset_index().sort_values('paid_price', ascending = False)\n",
    "# 59% of June Month Sales are again from Tent. Which implies more sales are there for tent during the summer holidays"
   ]
  },
  {
   "cell_type": "code",
   "execution_count": null,
   "metadata": {},
   "outputs": [],
   "source": [
    "#Data of all customers who bought tent in June\n",
    "TentCustomersJune = TentCustomers[TentCustomers[\"purchase_month\"] == 6]\n",
    "TentCustomersJune\n",
    "# There are 29 customer"
   ]
  },
  {
   "cell_type": "code",
   "execution_count": null,
   "metadata": {},
   "outputs": [],
   "source": [
    "# User_ID-State-City wise Data of all customers who bought tent in June\n",
    "TentCustomersJune.groupby(['user_id','state','city'])['paid_price'].agg('sum').reset_index().sort_values('paid_price', ascending = False)\n",
    "\n",
    "\n",
    "#print(TentCustomers)\n",
    "#a[a['state'].isin(['Texas','Florida','California','District of Columbia','Pennsylvania'])].sort_values(['state', 'paid_price'], ascending = [True, False])"
   ]
  },
  {
   "cell_type": "code",
   "execution_count": null,
   "metadata": {},
   "outputs": [],
   "source": [
    "TentCustomersJune.groupby([\"age_bins\"])[\"paid_price\"].aggregate('sum').reset_index().sort_values('paid_price', ascending = False)"
   ]
  },
  {
   "attachments": {},
   "cell_type": "markdown",
   "metadata": {},
   "source": [
    "# 2. Sending recommendations during the customer’s birthdays"
   ]
  },
  {
   "cell_type": "code",
   "execution_count": null,
   "metadata": {},
   "outputs": [],
   "source": [
    "cust[\"whoBoughtOnBday\"] = (cust[\"purchase_month\"] == (cust['birthday']).dt.month)"
   ]
  },
  {
   "cell_type": "code",
   "execution_count": null,
   "metadata": {},
   "outputs": [],
   "source": [
    "BdayPurchase = cust[cust[\"whoBoughtOnBday\"] == True]\n",
    "BdayPurchase.shape"
   ]
  },
  {
   "cell_type": "code",
   "execution_count": null,
   "metadata": {},
   "outputs": [],
   "source": [
    "# 10% of income from 184 customers were on their Bday\n",
    "\n",
    "(BdayPurchase[\"paid_price\"].sum()/cust[\"paid_price\"].sum())*100"
   ]
  },
  {
   "attachments": {},
   "cell_type": "markdown",
   "metadata": {},
   "source": [
    "# 3. Grouping customers by their purchase patterns based on the purchase month"
   ]
  },
  {
   "cell_type": "code",
   "execution_count": null,
   "metadata": {},
   "outputs": [],
   "source": [
    "# Number of products purchased in a year\n",
    "# Maximum nunmber of products purchased in which month?\n",
    "\n",
    "(cust.groupby([\"purchase_month\"])[\"paid_price\"].agg(\"sum\").reset_index().sort_values(\"paid_price\", ascending = False))\n"
   ]
  },
  {
   "cell_type": "code",
   "execution_count": null,
   "metadata": {},
   "outputs": [],
   "source": [
    "MonthlySales = cust[cust[\"purchase_month\"].isin([i for i,j in dict((cust.groupby(['purchase_month'])['paid_price'].aggregate('sum'))).items() if i == 6])]\n",
    "MonthlySales"
   ]
  },
  {
   "cell_type": "code",
   "execution_count": null,
   "metadata": {},
   "outputs": [],
   "source": [
    "MonthlySales.groupby([\"product\"])[\"paid_price\"].aggregate(\"sum\").reset_index().sort_values(\"paid_price\", ascending=False)\n",
    "# 59% of June Month Sales are again from Tent. Which implies more sales are there for tent during the summer holidays"
   ]
  },
  {
   "attachments": {},
   "cell_type": "markdown",
   "metadata": {},
   "source": [
    "# 4. Around 16% of customers are from Texas, Florida & California"
   ]
  },
  {
   "cell_type": "code",
   "execution_count": null,
   "metadata": {},
   "outputs": [],
   "source": [
    "#Highest customers across states\n",
    "\n",
    "customer_state=cust[['state','user_id']].drop_duplicates()\n",
    "customer_state.groupby(['state'])['user_id'].aggregate('count').reset_index().sort_values('user_id', ascending=False).head(10)\n",
    "\n",
    "#Around 16% of cutomers are from Texas, Floria & California"
   ]
  },
  {
   "cell_type": "code",
   "execution_count": null,
   "metadata": {},
   "outputs": [],
   "source": [
    "cust.groupby(['state'])['paid_price'].aggregate('sum').reset_index().sort_values('paid_price', ascending=False)\n",
    "#163910\n",
    "#Approx 50 % Sales are from 8 states. Remaining 50% sales are from remaining 42 states. \n",
    "#So let us market more and increase the sales in these 8 states"
   ]
  },
  {
   "cell_type": "code",
   "execution_count": null,
   "metadata": {},
   "outputs": [],
   "source": [
    "(cust.groupby(['state'])['paid_price'].aggregate('sum').reset_index().sort_values('paid_price', ascending=False))[:8]"
   ]
  },
  {
   "cell_type": "markdown",
   "metadata": {},
   "source": [
    "# PCA "
   ]
  },
  {
   "cell_type": "code",
   "execution_count": null,
   "metadata": {},
   "outputs": [],
   "source": [
    "#PCA\n",
    "cust_pca = cust"
   ]
  },
  {
   "cell_type": "code",
   "execution_count": null,
   "metadata": {},
   "outputs": [],
   "source": [
    "cust_cat = cust.select_dtypes(include=['object'])\n",
    "cust_enc = cust_cat.copy()\n",
    "cust_enc.drop('email', axis=1, inplace=True) \n",
    "cust_enc.drop('first_name', axis=1, inplace=True) \n",
    "cust_enc.drop('last_name', axis=1, inplace=True) \n",
    "#cust_enc.drop('user_id', axis=1, inplace=True) \n",
    "#cust_enc.drop('order_id', axis=1, inplace=True) \n",
    "print(cust_enc) "
   ]
  },
  {
   "cell_type": "code",
   "execution_count": null,
   "metadata": {},
   "outputs": [],
   "source": [
    "#ONEHOT ENCODING\n",
    "cust_enc = pd.get_dummies(cust_enc, columns=['product','gender','city','state'])"
   ]
  },
  {
   "cell_type": "code",
   "execution_count": null,
   "metadata": {},
   "outputs": [],
   "source": [
    "cust_enc = cust_enc.apply(LabelEncoder().fit_transform)"
   ]
  },
  {
   "cell_type": "code",
   "execution_count": null,
   "metadata": {},
   "outputs": [],
   "source": [
    "cust_pca = pd.concat([cust_pca, (cust['purchase_date']).dt.month, (cust['purchase_date']).dt.year], axis = 1)"
   ]
  },
  {
   "cell_type": "code",
   "execution_count": null,
   "metadata": {},
   "outputs": [],
   "source": [
    "cust_pca = cust_pca.drop(['product','gender','city','state'], axis=1)"
   ]
  },
  {
   "cell_type": "code",
   "execution_count": null,
   "metadata": {},
   "outputs": [],
   "source": [
    "cust_pca = pd.concat([cust_pca,cust_enc], axis=1)"
   ]
  },
  {
   "cell_type": "code",
   "execution_count": null,
   "metadata": {},
   "outputs": [],
   "source": [
    "cust_pca.drop(['order_id', 'purchase_date', 'user_id', 'email', 'first_name','last_name', 'birthday', 'newsletter_sign_up_date', 'gender_Female'], axis = 1, inplace = True)"
   ]
  },
  {
   "cell_type": "code",
   "execution_count": null,
   "metadata": {},
   "outputs": [],
   "source": [
    "from sklearn.decomposition import PCA\n",
    "from sklearn.preprocessing import scale"
   ]
  },
  {
   "cell_type": "code",
   "execution_count": null,
   "metadata": {},
   "outputs": [],
   "source": [
    "cust_pca_scale = scale(cust_pca)"
   ]
  },
  {
   "cell_type": "code",
   "execution_count": null,
   "metadata": {},
   "outputs": [],
   "source": [
    "pca = PCA(n_components=44)"
   ]
  },
  {
   "cell_type": "code",
   "execution_count": null,
   "metadata": {},
   "outputs": [],
   "source": [
    "pca.fit(cust_pca_scale)"
   ]
  },
  {
   "cell_type": "code",
   "execution_count": null,
   "metadata": {},
   "outputs": [],
   "source": [
    "var= pca.explained_variance_ratio_"
   ]
  },
  {
   "cell_type": "code",
   "execution_count": null,
   "metadata": {},
   "outputs": [],
   "source": [
    "var1=np.cumsum(np.round(pca.explained_variance_ratio_, decimals=4)*100)\n",
    "print(var1)"
   ]
  },
  {
   "cell_type": "code",
   "execution_count": null,
   "metadata": {},
   "outputs": [],
   "source": [
    "plt.plot(var1)"
   ]
  },
  {
   "cell_type": "code",
   "execution_count": null,
   "metadata": {},
   "outputs": [],
   "source": [
    "#Looking at above plot I'm taking 30 variables\n",
    "pca = PCA(n_components=2)\n",
    "pca.fit(cust_pca_scale)\n",
    "cust_pca_scale1=pca.fit_transform(cust_pca_scale)\n",
    "\n",
    "print(cust_pca_scale1)"
   ]
  },
  {
   "cell_type": "code",
   "execution_count": null,
   "metadata": {},
   "outputs": [],
   "source": [
    "temp1=pd.DataFrame(cust_pca_scale1)"
   ]
  },
  {
   "cell_type": "code",
   "execution_count": null,
   "metadata": {},
   "outputs": [],
   "source": [
    "tempU = cust['user_id']\n",
    "tempO = cust['order_id']"
   ]
  },
  {
   "cell_type": "code",
   "execution_count": null,
   "metadata": {},
   "outputs": [],
   "source": [
    "cust_pca_scale2 = pd.concat([temp1, tempU, tempO], axis = 1)"
   ]
  },
  {
   "cell_type": "markdown",
   "metadata": {},
   "source": [
    "# Gender wise product Classification"
   ]
  },
  {
   "cell_type": "code",
   "execution_count": null,
   "metadata": {},
   "outputs": [],
   "source": [
    "# Gender wise product classification\n",
    "ax = sns.countplot(x='product', hue='gender', data = cust)"
   ]
  },
  {
   "cell_type": "markdown",
   "metadata": {},
   "source": [
    "# There are 73 members of Male Gender more than Female"
   ]
  },
  {
   "cell_type": "code",
   "execution_count": null,
   "metadata": {},
   "outputs": [],
   "source": [
    "#Male leading female by 73#\n",
    "cust['gender'].value_counts()"
   ]
  },
  {
   "cell_type": "markdown",
   "metadata": {},
   "source": [
    "# Male Female spending patterns"
   ]
  },
  {
   "cell_type": "code",
   "execution_count": null,
   "metadata": {},
   "outputs": [],
   "source": [
    "cust.groupby(['gender'])['paid_price'].aggregate('sum').reset_index().sort_values('paid_price', ascending = False)\n",
    "sns.barplot(x='gender', y='paid_price', data=cust) #O/p gives mean"
   ]
  },
  {
   "cell_type": "markdown",
   "metadata": {},
   "source": [
    "# Both genders contribute equal monetory value to the customer"
   ]
  },
  {
   "cell_type": "code",
   "execution_count": null,
   "metadata": {},
   "outputs": [],
   "source": [
    "MaleFemaleSpendingRatio = cust.groupby(['gender']) \n",
    "MaleFemaleSpendingRatio = MaleFemaleSpendingRatio[['paid_price']].sum()\n",
    "MaleFemaleSpendingRatio.apply(lambda x: x/x.sum()*100).reset_index()"
   ]
  },
  {
   "cell_type": "markdown",
   "metadata": {},
   "source": [
    "# Creating age bins and classifying the paid price pattern\n"
   ]
  },
  {
   "cell_type": "code",
   "execution_count": null,
   "metadata": {},
   "outputs": [],
   "source": [
    "cust['age_bins']=pd.cut(cust['age'], [0,15,25,35,45,55,65,75,85,120], labels = ['0-15','15-25','25-35','35-45','45-55','55-65','65-75','75-85','85-120'])\n",
    "print(cust['age_bins'].head())"
   ]
  },
  {
   "cell_type": "code",
   "execution_count": null,
   "metadata": {},
   "outputs": [],
   "source": [
    "#BarPlot\n",
    "sns.barplot(x='age_bins', y='paid_price', data = cust)\n",
    "# 25 to 75 years (i.e) salaried people are buying products"
   ]
  },
  {
   "cell_type": "markdown",
   "metadata": {},
   "source": [
    "# Average spending - Age wise categorization"
   ]
  },
  {
   "cell_type": "code",
   "execution_count": null,
   "metadata": {},
   "outputs": [],
   "source": [
    "ageSpending = cust.groupby(['age_bins'])\n",
    "AgeSpending = AgeSpending[['paid_price']].mean()\n",
    "AgeSpending"
   ]
  },
  {
   "cell_type": "markdown",
   "metadata": {},
   "source": [
    "# Further drilling down based on genders"
   ]
  },
  {
   "cell_type": "code",
   "execution_count": null,
   "metadata": {},
   "outputs": [],
   "source": [
    "# Genders  in the following age groups spend the following amount for purchase\n",
    "cust.groupby(['gender', 'age_bins'])['paid_price'].mean()"
   ]
  },
  {
   "cell_type": "markdown",
   "metadata": {},
   "source": [
    "# Top 10 cities that contribute to the sales of the products"
   ]
  },
  {
   "cell_type": "code",
   "execution_count": null,
   "metadata": {},
   "outputs": [],
   "source": [
    "cust.groupby(['city'])['paid_price'].aggregate('sum').reset_index().sort_values('paid_price', ascending=False).head(10)\n"
   ]
  },
  {
   "attachments": {},
   "cell_type": "markdown",
   "metadata": {},
   "source": [
    "# Top 10 city customer base across USA"
   ]
  },
  {
   "cell_type": "code",
   "execution_count": null,
   "metadata": {},
   "outputs": [],
   "source": [
    "\n",
    "customer_city=cust[['city','user_id']]\n",
    "customer_city.groupby(['city'])['user_id'].aggregate('count').reset_index().sort_values('user_id', ascending=False).head(10)\n"
   ]
  },
  {
   "cell_type": "markdown",
   "metadata": {},
   "source": [
    "# Users who have contributed more monitory value to the client"
   ]
  },
  {
   "cell_type": "code",
   "execution_count": null,
   "metadata": {},
   "outputs": [],
   "source": [
    "#Users who are spending maximum with more number of orders\n",
    "cust.groupby('user_id').agg({'order_id':'count', 'paid_price': 'sum'}).reset_index().sort_values(['paid_price','order_id'], ascending = [False, True]).head(10)"
   ]
  }
 ],
 "metadata": {
  "kernelspec": {
   "display_name": "Python 3",
   "language": "python",
   "name": "python3"
  },
  "language_info": {
   "codemirror_mode": {
    "name": "ipython",
    "version": 3
   },
   "file_extension": ".py",
   "mimetype": "text/x-python",
   "name": "python",
   "nbconvert_exporter": "python",
   "pygments_lexer": "ipython3",
   "version": "3.6.7"
  }
 },
 "nbformat": 4,
 "nbformat_minor": 2
}
